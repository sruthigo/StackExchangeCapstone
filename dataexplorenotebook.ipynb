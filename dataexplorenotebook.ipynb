{
 "cells": [
  {
   "cell_type": "code",
   "execution_count": 18,
   "metadata": {},
   "outputs": [
    {
     "name": "stdout",
     "output_type": "stream",
     "text": [
      "file:  /Users/SG/Documents/DE2020/DataDirrectory/coffee.meta.stackexchange/Comments.xml\n",
      "Set of number of tags. Multiple values implies some values missing in some records:  {7}\n",
      "No of records:  4365\n",
      "file:  /Users/SG/Documents/DE2020/DataDirrectory/coffee.meta.stackexchange/Users.xml\n",
      "Set of number of tags. Multiple values implies some values missing in some records:  {9, 10, 11, 12, 13}\n",
      "No of records:  8256\n",
      "file:  /Users/SG/Documents/DE2020/DataDirrectory/coffee.meta.stackexchange/Votes.xml\n",
      "Set of number of tags. Multiple values implies some values missing in some records:  {4, 5, 6}\n",
      "No of records:  20663\n",
      "file:  /Users/SG/Documents/DE2020/DataDirrectory/coffee.meta.stackexchange/Tags.xml\n",
      "Set of number of tags. Multiple values implies some values missing in some records:  {3, 5}\n",
      "No of records:  115\n",
      "file:  /Users/SG/Documents/DE2020/DataDirrectory/coffee.meta.stackexchange/PostHistory.xml\n",
      "Set of number of tags. Multiple values implies some values missing in some records:  {5, 6, 7, 8, 9}\n",
      "No of records:  10178\n",
      "file:  /Users/SG/Documents/DE2020/DataDirrectory/coffee.meta.stackexchange/PostLinks.xml\n",
      "Set of number of tags. Multiple values implies some values missing in some records:  {5}\n",
      "No of records:  602\n",
      "file:  /Users/SG/Documents/DE2020/DataDirrectory/coffee.meta.stackexchange/Posts.xml\n",
      "Set of number of tags. Multiple values implies some values missing in some records:  {10, 11, 12, 13, 14, 15, 16, 17, 18}\n",
      "No of records:  3936\n",
      "file:  /Users/SG/Documents/DE2020/DataDirrectory/coffee.meta.stackexchange/Badges.xml\n",
      "Set of number of tags. Multiple values implies some values missing in some records:  {6}\n",
      "No of records:  10852\n"
     ]
    }
   ],
   "source": [
    "import pandas as pd\n",
    "import xml.etree.ElementTree as ET\n",
    "import os\n",
    "directory = '/Users/SG/Documents/DE2020/DataDirrectory/coffee.meta.stackexchange'\n",
    "files = os.listdir(directory)\n",
    "for each in files:\n",
    "    filepath = directory+'/'+each\n",
    "    print('file: ',filepath)\n",
    "    mytree = ET.parse(filepath)\n",
    "    root = mytree.getroot()\n",
    "    rowtag = './/' + root[0].tag\n",
    "    enclosures = mytree.findall(rowtag)\n",
    "    i=5\n",
    "    listofkeycounts =[]\n",
    "    for each in enclosures:\n",
    "        #if i == 0:\n",
    "           # break\n",
    "        #print(each.attrib.keys(), len(each.attrib))\n",
    "        listofkeycounts.append(len(each.attrib))\n",
    "        #i -=1\n",
    "    setoflengths = set(listofkeycounts)\n",
    "    print('Set of number of tags. Multiple values implies some values missing in some records: ',setoflengths)\n",
    "    print('No of records: ',len(enclosures))"
   ]
  },
  {
   "cell_type": "code",
   "execution_count": 19,
   "metadata": {},
   "outputs": [
    {
     "name": "stdout",
     "output_type": "stream",
     "text": [
      "This displays the distinct tags present in each XML file: \n",
      "\n",
      "Comments.xml : {'CreationDate', 'PostId', 'UserDisplayName', 'Score', 'Text', 'ContentLicense', 'UserId', 'Id'}\n",
      "Users.xml : {'Reputation', 'CreationDate', 'Location', 'AccountId', 'DisplayName', 'Views', 'DownVotes', 'UpVotes', 'ProfileImageUrl', 'AboutMe', 'WebsiteUrl', 'Id', 'LastAccessDate'}\n",
      "Votes.xml : {'CreationDate', 'PostId', 'BountyAmount', 'UserId', 'Id', 'VoteTypeId'}\n",
      "Tags.xml : {'ExcerptPostId', 'TagName', 'Count', 'WikiPostId', 'Id'}\n",
      "PostHistory.xml : {'CreationDate', 'PostId', 'PostHistoryTypeId', 'UserDisplayName', 'Text', 'Comment', 'ContentLicense', 'UserId', 'Id', 'RevisionGUID'}\n",
      "PostLinks.xml : {'CreationDate', 'LinkTypeId', 'PostId', 'RelatedPostId', 'Id'}\n",
      "Posts.xml : {'LastEditorUserId', 'OwnerDisplayName', 'Title', 'ParentId', 'CreationDate', 'ViewCount', 'Body', 'AnswerCount', 'Score', 'LastEditDate', 'ContentLicense', 'LastActivityDate', 'OwnerUserId', 'CommentCount', 'LastEditorDisplayName', 'CommunityOwnedDate', 'AcceptedAnswerId', 'Id', 'ClosedDate', 'Tags', 'FavoriteCount', 'PostTypeId'}\n",
      "Badges.xml : {'Class', 'Name', 'UserId', 'Id', 'Date', 'TagBased'}\n"
     ]
    }
   ],
   "source": [
    "import pandas as pd\n",
    "import xml.etree.ElementTree as ET\n",
    "import os\n",
    "from collections import defaultdict\n",
    "directory = '/Users/SG/Documents/DE2020/DataDirrectory/coffee.meta.stackexchange'\n",
    "files = os.listdir(directory)\n",
    "print('This displays the distinct tags present in each XML file: \\n')\n",
    "for each in files:\n",
    "    mytree = ET.parse(directory+'/'+each)\n",
    "    root = mytree.getroot()\n",
    "    rowtag = './/' + root[0].tag\n",
    "    enclosures = mytree.findall(rowtag)\n",
    "    i=5\n",
    "    listofkeycounts =[]\n",
    "    dictofkeys = {}\n",
    "    tagsoftags = set()\n",
    "    for e in enclosures:\n",
    "        for k in e.attrib.keys():\n",
    "            tagsoftags.add(k)\n",
    "    print(each,':', tagsoftags)\n"
   ]
  },
  {
   "cell_type": "code",
   "execution_count": null,
   "metadata": {},
   "outputs": [],
   "source": []
  }
 ],
 "metadata": {
  "kernelspec": {
   "display_name": "Python 3",
   "language": "python",
   "name": "python3"
  },
  "language_info": {
   "codemirror_mode": {
    "name": "ipython",
    "version": 3
   },
   "file_extension": ".py",
   "mimetype": "text/x-python",
   "name": "python",
   "nbconvert_exporter": "python",
   "pygments_lexer": "ipython3",
   "version": "3.8.5"
  }
 },
 "nbformat": 4,
 "nbformat_minor": 4
}
