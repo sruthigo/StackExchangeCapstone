{
 "cells": [
  {
   "cell_type": "code",
   "execution_count": 1,
   "metadata": {},
   "outputs": [
    {
     "name": "stdout",
     "output_type": "stream",
     "text": [
      "file:  /Users/SG/Documents/DE2020/DataDirrectory/coffee.meta.stackexchange/Comments.xml\n",
      "Set of number of tags. Multiple values implies some values missing in some records:  {7}\n",
      "No of records:  4365\n",
      "file:  /Users/SG/Documents/DE2020/DataDirrectory/coffee.meta.stackexchange/Users.xml\n",
      "Set of number of tags. Multiple values implies some values missing in some records:  {9, 10, 11, 12, 13}\n",
      "No of records:  8256\n",
      "file:  /Users/SG/Documents/DE2020/DataDirrectory/coffee.meta.stackexchange/Votes.xml\n",
      "Set of number of tags. Multiple values implies some values missing in some records:  {4, 5, 6}\n",
      "No of records:  20663\n",
      "file:  /Users/SG/Documents/DE2020/DataDirrectory/coffee.meta.stackexchange/Tags.xml\n",
      "Set of number of tags. Multiple values implies some values missing in some records:  {3, 5}\n",
      "No of records:  115\n",
      "file:  /Users/SG/Documents/DE2020/DataDirrectory/coffee.meta.stackexchange/PostHistory.xml\n",
      "Set of number of tags. Multiple values implies some values missing in some records:  {5, 6, 7, 8, 9}\n",
      "No of records:  10178\n",
      "file:  /Users/SG/Documents/DE2020/DataDirrectory/coffee.meta.stackexchange/PostLinks.xml\n",
      "Set of number of tags. Multiple values implies some values missing in some records:  {5}\n",
      "No of records:  602\n",
      "file:  /Users/SG/Documents/DE2020/DataDirrectory/coffee.meta.stackexchange/Posts.xml\n",
      "Set of number of tags. Multiple values implies some values missing in some records:  {10, 11, 12, 13, 14, 15, 16, 17, 18}\n",
      "No of records:  3936\n",
      "file:  /Users/SG/Documents/DE2020/DataDirrectory/coffee.meta.stackexchange/Badges.xml\n",
      "Set of number of tags. Multiple values implies some values missing in some records:  {6}\n",
      "No of records:  10852\n"
     ]
    }
   ],
   "source": [
    "import pandas as pd\n",
    "import xml.etree.ElementTree as ET\n",
    "import os\n",
    "directory = '/Users/SG/Documents/DE2020/DataDirrectory/coffee.meta.stackexchange'\n",
    "files = os.listdir(directory)\n",
    "for each in files:\n",
    "    filepath = directory+'/'+each\n",
    "    print('file: ',filepath)\n",
    "    mytree = ET.parse(filepath)\n",
    "    root = mytree.getroot()\n",
    "    rowtag = './/' + root[0].tag\n",
    "    enclosures = mytree.findall(rowtag)\n",
    "    i=5\n",
    "    listofkeycounts =[]\n",
    "    for each in enclosures:\n",
    "        #if i == 0:\n",
    "           # break\n",
    "        #print(each.attrib.keys(), len(each.attrib))\n",
    "        listofkeycounts.append(len(each.attrib))\n",
    "        #i -=1\n",
    "    setoflengths = set(listofkeycounts)\n",
    "    print('Set of number of tags. Multiple values implies some values missing in some records: ',setoflengths)\n",
    "    print('No of records: ',len(enclosures))"
   ]
  },
  {
   "cell_type": "code",
   "execution_count": 10,
   "metadata": {},
   "outputs": [
    {
     "name": "stdout",
     "output_type": "stream",
     "text": [
      "This displays the distinct tags present in each XML file: \n",
      "\n",
      "Comments.xml : {'Text', 'UserDisplayName', 'PostId', 'Score', 'CreationDate', 'ContentLicense', 'Id', 'UserId'}\n",
      "Users.xml : {'Views', 'AccountId', 'Reputation', 'Location', 'DownVotes', 'LastAccessDate', 'CreationDate', 'AboutMe', 'Id', 'WebsiteUrl', 'UpVotes', 'DisplayName', 'ProfileImageUrl'}\n",
      "Votes.xml : {'BountyAmount', 'PostId', 'CreationDate', 'Id', 'UserId', 'VoteTypeId'}\n",
      "Tags.xml : {'WikiPostId', 'ExcerptPostId', 'TagName', 'Id', 'Count'}\n",
      "PostHistory.xml : {'PostHistoryTypeId', 'Text', 'RevisionGUID', 'UserDisplayName', 'PostId', 'CreationDate', 'ContentLicense', 'Id', 'UserId', 'Comment'}\n",
      "PostLinks.xml : {'RelatedPostId', 'LinkTypeId', 'PostId', 'CreationDate', 'Id'}\n",
      "Posts.xml : {'CommunityOwnedDate', 'Score', 'ContentLicense', 'CommentCount', 'OwnerUserId', 'LastActivityDate', 'AcceptedAnswerId', 'FavoriteCount', 'AnswerCount', 'ParentId', 'ClosedDate', 'Body', 'Tags', 'LastEditorUserId', 'LastEditDate', 'LastEditorDisplayName', 'PostTypeId', 'ViewCount', 'CreationDate', 'Id', 'Title', 'OwnerDisplayName'}\n",
      "Badges.xml : {'Class', 'TagBased', 'Name', 'Date', 'Id', 'UserId'}\n"
     ]
    }
   ],
   "source": [
    "import pandas as pd\n",
    "import xml.etree.ElementTree as ET\n",
    "import os\n",
    "from collections import defaultdict\n",
    "directory = '/Users/SG/Documents/DE2020/DataDirrectory/conlang.meta.stackexchange'\n",
    "files = os.listdir(directory)\n",
    "print('This displays the distinct tags present in each XML file: \\n')\n",
    "for each in files:\n",
    "    mytree = ET.parse(directory+'/'+each)\n",
    "    root = mytree.getroot()\n",
    "    rowtag = './/' + root[0].tag\n",
    "    enclosures = mytree.findall(rowtag)\n",
    "    i=5\n",
    "    listofkeycounts =[]\n",
    "    dictofkeys = {}\n",
    "    tagsoftags = set()\n",
    "    for e in enclosures:\n",
    "        for k in e.attrib.keys():\n",
    "            tagsoftags.add(k)\n",
    "    print(each,':', tagsoftags)\n"
   ]
  },
  {
   "cell_type": "code",
   "execution_count": 11,
   "metadata": {},
   "outputs": [
    {
     "name": "stdout",
     "output_type": "stream",
     "text": [
      "This displays the distinct tags present in each XML file: \n",
      "\n",
      "------ Comments.xml -------\n",
      "”not advanced enough” would be bothering if it would prevent the communication of some concepts; I don't really see the point with \"human language\".\n",
      "« there are no words that \"carry no meaning\" »\n",
      "—\n",
      "I'm not so sure about that - \"ne\" in French seems like a good candidate of a word that carries no meaning.\n",
      "“no easy way of finding out about Tibetan”? If I wanted a chart of Tibetan characters at that time, I'd go to the Bodhi Tree bookshop not far from Hollywood (I think I got some linguistic material there in 1984, though I've forgotten what) or to the appropriate department of a university library.\n",
      "”Language is encoded in a linear, one-dimensional fashion” - this doesn’t strictly apply to sign languages: while there is obviously still an important time component to speech, multiple signs may be made at the same time (or overlapping in time) on occasion, the spatial dimensions are made full use of (rather than e.g. always signing in the same location); furthermore things like grammaticalized facial expressions occur parallel to actual signs.\n",
      "“No one phone is found in all languages,” but some phonemic contrasts are; every language contrasts vowels with stops, for example, and I think each contrasts high and low vowels (even Ubykh apparently had a height contrast).\n",
      "“in a sign language, there are no words” is strictly wrong. Sign languages are not that different from spoken ones. The medium allows for some very interesting differences like signing two signs in parallel, or having the location of signing be relevant, but otherwise it’s much of the same. They certainly have words.\n",
      "“each time you are asleep”, “each time Misha is on duty” could be examples.\n",
      "… Also, if PHOIBLE lists a segment with strange diacritics or otherwise unusual transcription, or a segment which _seems_ straightforward but is only in very few languages, that can be a sign you need to investigate it further. To give another example, [/ⁿd/](https://phoible.org/parameters/86DD56EA735C71F39ED477D66E5B424A#5/25.559/92.475) is apparently attested in 23 languages — but only because PHOIBLE usually transcribes this phoneme as [/nd/](https://phoible.org/parameters/6910328C2AAA6011720FA21FFE1665D8#2/3.1/151.1), present in 270 languages.\n",
      "------ Users.xml -------\n",
      "♦ Domlur, Bangalore, Karnataka, India\n",
      "Óscar Andreu\n",
      "Ángel\n",
      "карбит фиалкович\n",
      "ᛤᚤᛠᛥⴲ\n",
      "Киев, город Киев, Украина\n",
      "魔大农\n",
      "Егор Карпов\n",
      "Семён Сергеев\n",
      "اسد محمد\n",
      "Олег Мареев\n",
      "Мікалас Кaрыбутоў\n",
      "日本Tōkyō-to\n",
      "대한민국 Seoul\n",
      "بني بوييري الجبل\n",
      "موقع بني بويري الجبل24IBM\n",
      "مرتضى عرقي الذبحاوي\n",
      "حيدر العلي\n",
      "ماجد العنزي\n",
      "Анастасия Сюзана\n",
      "Санкт-Петербург\n",
      "کسری کوهستانی\n",
      "Мирдов Крон\n",
      "سامي الشهراني\n",
      "كيان السعبري\n",
      "İstanbul, Türkiye\n",
      "コンスタンティン\n",
      "نور\n",
      "------ Votes.xml -------\n",
      "------ Tags.xml -------\n",
      "------ PostHistory.xml -------\n",
      "------ PostLinks.xml -------\n",
      "------ Posts.xml -------\n",
      "------ Badges.xml -------\n"
     ]
    }
   ],
   "source": [
    "import pandas as pd\n",
    "import re\n",
    "import xml.etree.ElementTree as ET\n",
    "import os\n",
    "from collections import defaultdict\n",
    "directory = '/Users/SG/Documents/DE2020/DataDirrectory/conlang.meta.stackexchange'\n",
    "files = os.listdir(directory)\n",
    "p=re.compile(u'[^\\x00-\\x7F]')\n",
    "print('This displays the distinct tags present in each XML file: \\n')\n",
    "for each in files:\n",
    "    print('------',each,'-------')\n",
    "    mytree = ET.parse(directory+'/'+each)\n",
    "    root = mytree.getroot()\n",
    "    rowtag = './/' + root[0].tag\n",
    "    enclosures = mytree.findall(rowtag)\n",
    "    i=5\n",
    "    listofkeycounts =[]\n",
    "    dictofkeys = {}\n",
    "    tagsoftags = set()\n",
    "    for e in enclosures:\n",
    "        for k in e.attrib.values():\n",
    "            if p.match(k):\n",
    "                print(k)"
   ]
  },
  {
   "cell_type": "code",
   "execution_count": null,
   "metadata": {},
   "outputs": [],
   "source": []
  },
  {
   "cell_type": "code",
   "execution_count": null,
   "metadata": {},
   "outputs": [],
   "source": []
  }
 ],
 "metadata": {
  "kernelspec": {
   "display_name": "Python 3",
   "language": "python",
   "name": "python3"
  },
  "language_info": {
   "codemirror_mode": {
    "name": "ipython",
    "version": 3
   },
   "file_extension": ".py",
   "mimetype": "text/x-python",
   "name": "python",
   "nbconvert_exporter": "python",
   "pygments_lexer": "ipython3",
   "version": "3.8.5"
  }
 },
 "nbformat": 4,
 "nbformat_minor": 4
}
